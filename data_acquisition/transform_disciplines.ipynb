{
 "cells": [
  {
   "cell_type": "code",
   "execution_count": 3,
   "metadata": {},
   "outputs": [
    {
     "name": "stdout",
     "output_type": "stream",
     "text": [
      "Successfully saved transformed data to: ../data/researchDisciplines_transformed.json\n"
     ]
    }
   ],
   "source": [
    "import json\n",
    "\n",
    "def transform_disciplines_from_file(file_path):\n",
    "    \"\"\"\n",
    "    Read JSON data from a file and transform it into a list of combined discipline and institution data.\n",
    "    \n",
    "    Args:\n",
    "        file_path (str): Path to the JSON file containing the input data\n",
    "        \n",
    "    Returns:\n",
    "        list: List of dictionaries containing combined discipline and institution data\n",
    "    \"\"\"\n",
    "    try:\n",
    "        with open(file_path, 'r', encoding='utf-8') as file:\n",
    "            input_data_list = json.load(file)\n",
    "            \n",
    "        result = []\n",
    "        \n",
    "        for input_data in input_data_list:\n",
    "            institution_details = {\n",
    "                \"institutionName\": input_data.get(\"institutionName\", \"\"),\n",
    "                \"institutionUuid\": input_data.get(\"institutionUuid\", \"\")\n",
    "            }\n",
    "            \n",
    "            for discipline in input_data.get(\"disciplines\", []):\n",
    "                transformed_entry = {\n",
    "                    \"disciplineName\": discipline.get(\"disciplineName\", \"\"),\n",
    "                    \"disciplineCode\": discipline.get(\"disciplineCode\", \"\"),\n",
    "                    \"domainName\": discipline.get(\"domainName\", \"\"),\n",
    "                    \"domainCode\": discipline.get(\"domainCode\", \"\"),\n",
    "                    \"institutionName\": institution_details[\"institutionName\"],\n",
    "                    \"institutionUuid\": institution_details[\"institutionUuid\"]\n",
    "                }\n",
    "                result.append(transformed_entry)\n",
    "        \n",
    "        return result\n",
    "    \n",
    "    except FileNotFoundError:\n",
    "        print(f\"Error: File not found at path: {file_path}\")\n",
    "        return None\n",
    "    except json.JSONDecodeError:\n",
    "        print(f\"Error: Invalid JSON format in file: {file_path}\")\n",
    "        return None\n",
    "    except Exception as e:\n",
    "        print(f\"Error: An unexpected error occurred: {str(e)}\")\n",
    "        return None\n",
    "\n",
    "def save_transformed_data(transformed_data, output_file_path):\n",
    "    \"\"\"\n",
    "    Save the transformed data to a JSON file.\n",
    "    \n",
    "    Args:\n",
    "        transformed_data (list): The transformed data to save\n",
    "        output_file_path (str): Path where to save the output JSON file\n",
    "    \"\"\"\n",
    "    try:\n",
    "        with open(output_file_path, 'w', encoding='utf-8') as file:\n",
    "            json.dump(transformed_data, file, indent=2, ensure_ascii=False)\n",
    "        print(f\"Successfully saved transformed data to: {output_file_path}\")\n",
    "    except Exception as e:\n",
    "        print(f\"Error saving file: {str(e)}\")\n",
    "\n",
    "# Example usage:\n",
    "if __name__ == \"__main__\":\n",
    "    input_file_path = \"../data/researchDisciplines.json\"\n",
    "    output_file_path = \"../data/researchDisciplines_transformed.json\"\n",
    "    \n",
    "    # Transform the data\n",
    "    transformed_data = transform_disciplines_from_file(input_file_path)\n",
    "    \n",
    "    # Save the result if transformation was successful\n",
    "    if transformed_data is not None:\n",
    "        save_transformed_data(transformed_data, output_file_path)"
   ]
  }
 ],
 "metadata": {
  "kernelspec": {
   "display_name": "kg_project",
   "language": "python",
   "name": "python3"
  },
  "language_info": {
   "codemirror_mode": {
    "name": "ipython",
    "version": 3
   },
   "file_extension": ".py",
   "mimetype": "text/x-python",
   "name": "python",
   "nbconvert_exporter": "python",
   "pygments_lexer": "ipython3",
   "version": "3.12.6"
  }
 },
 "nbformat": 4,
 "nbformat_minor": 2
}
