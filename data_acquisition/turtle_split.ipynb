{
 "cells": [
  {
   "cell_type": "code",
   "execution_count": 1,
   "metadata": {},
   "outputs": [],
   "source": [
    "def split_ttl_file(input_file, entities):\n",
    "    with open(input_file, 'r', encoding='utf-8') as f:\n",
    "        content = f.read()\n",
    "\n",
    "    prefix_section = []\n",
    "    data_entries = []\n",
    "    \n",
    "    current_entry = []\n",
    "    in_prefixes = True\n",
    "    \n",
    "    for line in content.split('\\n'):\n",
    "        if line.strip().startswith('@prefix'):\n",
    "            prefix_section.append(line)\n",
    "        elif line.strip() and not line.strip().startswith('@prefix'):\n",
    "            in_prefixes = False\n",
    "            \n",
    "        if not in_prefixes:\n",
    "            if line.strip():\n",
    "                current_entry.append(line)\n",
    "            elif current_entry:\n",
    "                data_entries.append('\\n'.join(current_entry))\n",
    "                current_entry = []\n",
    "                \n",
    "    if current_entry:\n",
    "        data_entries.append('\\n'.join(current_entry))\n",
    "\n",
    "    file_names = dict()\n",
    "\n",
    "    file_names['radon'] = 'data/radon.ttl'\n",
    "\n",
    "    for entity in entities:\n",
    "        file_name = 'data/' + entity + '.ttl'\n",
    "        file_names['radon:' + entity] = file_name\n",
    "        with open(file_name, 'w', encoding='utf-8') as f:\n",
    "            f.write('\\n'.join(prefix_section) + '\\n\\n')\n",
    "        f.close()\n",
    "\n",
    "    for entry in data_entries:\n",
    "        key = entry[0:entry.split(' ')[0].find('_')] if entry.split(' ')[0].find('_') >= 0 else 'radon'\n",
    "        output_filename = file_names[key]\n",
    "        with open(output_filename, 'a', encoding='utf-8') as f:\n",
    "            f.write(entry)\n",
    "            f.write('\\n\\n')\n",
    "        f.close()"
   ]
  },
  {
   "cell_type": "code",
   "execution_count": 2,
   "metadata": {},
   "outputs": [],
   "source": [
    "input_file = \"../turtles/combined.ttl\"\n",
    "entities = ['branch', 'institution', 'employee', 'supervisingInstitution', 'discipline', 'domain', 'dissertation', 'promotion']\n",
    "split_ttl_file(input_file, entities)"
   ]
  }
 ],
 "metadata": {
  "kernelspec": {
   "display_name": "kg_project",
   "language": "python",
   "name": "python3"
  },
  "language_info": {
   "codemirror_mode": {
    "name": "ipython",
    "version": 3
   },
   "file_extension": ".py",
   "mimetype": "text/x-python",
   "name": "python",
   "nbconvert_exporter": "python",
   "pygments_lexer": "ipython3",
   "version": "3.12.6"
  }
 },
 "nbformat": 4,
 "nbformat_minor": 2
}
